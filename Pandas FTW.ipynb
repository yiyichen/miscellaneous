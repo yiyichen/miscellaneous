{
 "cells": [
  {
   "cell_type": "markdown",
   "metadata": {},
   "source": [
    "# Pandas Cheatsheet #\n",
    "\n",
    "This notebook includes some of the common pandas functions (and others) for data mining and analysis.\n",
    "\n",
    "## Exploratory Data Analysis ##"
   ]
  },
  {
   "cell_type": "code",
   "execution_count": 1,
   "metadata": {
    "collapsed": false
   },
   "outputs": [],
   "source": [
    "import pandas as pd\n",
    "import numpy as np\n",
    "import matplotlib\n",
    "import matplotlib.pyplot as plt\n",
    "from datetime import datetime\n",
    "\n",
    "%matplotlib inline\n",
    "matplotlib.style.use('ggplot')"
   ]
  },
  {
   "cell_type": "markdown",
   "metadata": {},
   "source": [
    "***\n",
    "### Data Summary ###\n",
    "display a summary of the df with specified categorical column names"
   ]
  },
  {
   "cell_type": "code",
   "execution_count": 2,
   "metadata": {
    "collapsed": false
   },
   "outputs": [],
   "source": [
    "def cat_col_summary(df, categorical_cols):\n",
    "    for val in categorical_cols:\n",
    "        print('total counts: ', df[val].count())\n",
    "        print(df[val].value_counts())\n",
    "        print('-'*40)\n",
    "\n",
    "# print out a summary of the dataframe\n",
    "def df_summary(df, categorical_cols):\n",
    "    print('dim of table:')\n",
    "    print(df.shape, '\\n')\n",
    "    \n",
    "    print('first few rows of the table:')\n",
    "    print('='*40)\n",
    "    print(df.head(), '\\n')\n",
    "    \n",
    "    print('count of null values:')\n",
    "    print('='*40)\n",
    "    print(df.isnull().sum(), '\\n')\n",
    "    \n",
    "    print('summary of numeric values')\n",
    "    print('='*40)\n",
    "    print(df.describe(percentiles=[0.01, 0.05, 0.25, 0.5, 0.75, 0.95, 0.99]), '\\n')\n",
    "    \n",
    "    print('\\nsummary of categorical values')\n",
    "    print('='*40)\n",
    "    cat_col_summary(df, categorical_cols)"
   ]
  },
  {
   "cell_type": "code",
   "execution_count": 3,
   "metadata": {
    "collapsed": false,
    "scrolled": true
   },
   "outputs": [
    {
     "name": "stdout",
     "output_type": "stream",
     "text": [
      "dim of table:\n",
      "(316200, 6) \n",
      "\n",
      "first few rows of the table:\n",
      "========================================\n",
      "  country  age  new_user source  total_pages_visited  converted\n",
      "0      UK   25         1    Ads                    1          0\n",
      "1      US   23         1    Seo                    5          0\n",
      "2      US   28         1    Seo                    4          0\n",
      "3   China   39         1    Seo                    5          0\n",
      "4      US   30         1    Seo                    6          0 \n",
      "\n",
      "count of null values:\n",
      "========================================\n",
      "country                0\n",
      "age                    0\n",
      "new_user               0\n",
      "source                 0\n",
      "total_pages_visited    0\n",
      "converted              0\n",
      "dtype: int64 \n",
      "\n",
      "summary of numeric values\n",
      "========================================\n",
      "                 age       new_user  total_pages_visited      converted\n",
      "count  316200.000000  316200.000000        316200.000000  316200.000000\n",
      "mean       30.569858       0.685465             4.872966       0.032258\n",
      "std         8.271802       0.464331             3.341104       0.176685\n",
      "min        17.000000       0.000000             1.000000       0.000000\n",
      "1%         17.000000       0.000000             1.000000       0.000000\n",
      "5%         18.000000       0.000000             1.000000       0.000000\n",
      "25%        24.000000       0.000000             2.000000       0.000000\n",
      "50%        30.000000       1.000000             4.000000       0.000000\n",
      "75%        36.000000       1.000000             7.000000       0.000000\n",
      "95%        45.000000       1.000000            11.000000       0.000000\n",
      "99%        52.000000       1.000000            17.000000       1.000000\n",
      "max       123.000000       1.000000            29.000000       1.000000 \n",
      "\n",
      "\n",
      "summary of categorical values\n",
      "========================================\n",
      "total counts:  316200\n",
      "US         178092\n",
      "China       76602\n",
      "UK          48450\n",
      "Germany     13056\n",
      "Name: country, dtype: int64\n",
      "----------------------------------------\n",
      "total counts:  316200\n",
      "Seo       155040\n",
      "Ads        88740\n",
      "Direct     72420\n",
      "Name: source, dtype: int64\n",
      "----------------------------------------\n"
     ]
    }
   ],
   "source": [
    "# example 1\n",
    "df = pd.read_csv('../data/conversion_data.csv')\n",
    "categorical_cols = ['country', 'source']\n",
    "df_summary(df, categorical_cols)"
   ]
  },
  {
   "cell_type": "markdown",
   "metadata": {},
   "source": [
    "***\n",
    "\n",
    "### Input Variable Value Distribution ###\n",
    "get population (counts) of a given value bucket breakdown"
   ]
  },
  {
   "cell_type": "code",
   "execution_count": 4,
   "metadata": {
    "collapsed": false
   },
   "outputs": [
    {
     "data": {
      "text/plain": [
       "0      35568\n",
       "20    132283\n",
       "30    108269\n",
       "40     40078\n",
       "80         2\n",
       "Name: age, dtype: int64"
      ]
     },
     "execution_count": 4,
     "metadata": {},
     "output_type": "execute_result"
    }
   ],
   "source": [
    "df['age'].value_counts(bins=[0, 20, 30, 40, 80, 150], sort=False)"
   ]
  },
  {
   "cell_type": "code",
   "execution_count": 5,
   "metadata": {
    "collapsed": false,
    "scrolled": false
   },
   "outputs": [
    {
     "data": {
      "text/plain": [
       "<matplotlib.text.Text at 0x1127c2b70>"
      ]
     },
     "execution_count": 5,
     "metadata": {},
     "output_type": "execute_result"
    },
    {
     "data": {
      "image/png": "[encoded data removed]",
      "text/plain": [
       "<matplotlib.figure.Figure at 0x1127b7cf8>"
      ]
     },
     "metadata": {},
     "output_type": "display_data"
    }
   ],
   "source": [
    "chart = df['age'].value_counts(sort=False).plot(kind='bar', figsize=(14, 6))\n",
    "chart.set_ylabel('number of users')\n",
    "chart.set_xlabel('age')"
   ]
  },
  {
   "cell_type": "markdown",
   "metadata": {},
   "source": [
    "***\n",
    "### Test/Control Distribution by Input Variable ###\n",
    "compare `y=1` and `y=0` counts by a given input variable"
   ]
  },
  {
   "cell_type": "code",
   "execution_count": 6,
   "metadata": {
    "collapsed": false
   },
   "outputs": [
    {
     "data": {
      "image/png": "[encoded data removed]",
      "text/plain": [
       "<matplotlib.figure.Figure at 0x104b35f98>"
      ]
     },
     "metadata": {},
     "output_type": "display_data"
    }
   ],
   "source": [
    "# adapted from Sayan Sanyal's code\n",
    "fig, ax = plt.subplots(figsize=(14, 6))\n",
    "\n",
    "page_range = np.arange(0, 30)\n",
    "converts = df[df[\"converted\"]==1]['total_pages_visited'].value_counts(bins=list(page_range), sort=False)\n",
    "holdouts = df[df[\"converted\"]==0]['total_pages_visited'].value_counts(bins=list(page_range), sort=False)\n",
    "ind = converts.index\n",
    "\n",
    "p1 = plt.bar(ind, converts, color='red', bottom=holdouts)\n",
    "p2 = plt.bar(ind, holdouts, color='lightblue')\n",
    "plt.ylabel('number of users')\n",
    "plt.xlabel('number of pages')\n",
    "plt.show()"
   ]
  },
  {
   "cell_type": "code",
   "execution_count": 7,
   "metadata": {
    "collapsed": false,
    "scrolled": false
   },
   "outputs": [
    {
     "data": {
      "text/plain": [
       "<matplotlib.text.Text at 0x1155cc048>"
      ]
     },
     "execution_count": 7,
     "metadata": {},
     "output_type": "execute_result"
    },
    {
     "data": {
      "image/png": "[encoded data removed]",
      "text/plain": [
       "<matplotlib.figure.Figure at 0x1127c4c88>"
      ]
     },
     "metadata": {},
     "output_type": "display_data"
    }
   ],
   "source": [
    "converts = df[df[\"converted\"]==1].groupby('country').size()\n",
    "holdouts = df[df[\"converted\"]==0].groupby('country').size()\n",
    "chart = (converts/holdouts).plot(kind='bar', color='orange')\n",
    "chart.set_ylabel('conversion rate')"
   ]
  },
  {
   "cell_type": "markdown",
   "metadata": {},
   "source": [
    "***\n",
    "\n",
    "### Date Manipulation ###\n",
    "*sample question*:  \n",
    "check if a user has signed in consecutively for $n$ days."
   ]
  },
  {
   "cell_type": "code",
   "execution_count": 8,
   "metadata": {
    "collapsed": false
   },
   "outputs": [],
   "source": [
    "# clean up data\n",
    "df = pd.read_csv('../data/consec_days.csv')\n",
    "df['Time'] = pd.to_datetime(df['Time'])\n",
    "df.sort_values(['Time', 'User'], inplace=True)\n",
    "df.reset_index(drop=True, inplace=True)"
   ]
  },
  {
   "cell_type": "markdown",
   "metadata": {},
   "source": [
    "scenario 1: check against a given time window"
   ]
  },
  {
   "cell_type": "code",
   "execution_count": 9,
   "metadata": {
    "collapsed": false
   },
   "outputs": [
    {
     "data": {
      "text/plain": [
       "1"
      ]
     },
     "execution_count": 9,
     "metadata": {},
     "output_type": "execute_result"
    }
   ],
   "source": [
    "start = datetime(2016, 12, 1)\n",
    "end = datetime(2016, 12, 8)\n",
    "df_window = df[(df['Time']>=start) & (df['Time']<end)].copy()\n",
    "df_window['day'] = df_window['Time'].apply(lambda x: x.day)\n",
    "(df_window.groupby('User')['day'].nunique()==7).sum()"
   ]
  },
  {
   "cell_type": "markdown",
   "metadata": {},
   "source": [
    "scenario 2: check for $n$ days given a log"
   ]
  },
  {
   "cell_type": "code",
   "execution_count": 10,
   "metadata": {
    "collapsed": false
   },
   "outputs": [
    {
     "data": {
      "text/plain": [
       "2"
      ]
     },
     "execution_count": 10,
     "metadata": {},
     "output_type": "execute_result"
    }
   ],
   "source": [
    "def consecutive_week(group, n):\n",
    "    day_diffs = np.diff(group['Time'].unique()).astype('timedelta64[D]').astype(int)\n",
    "    consec_day_pattern = np.ones(n)\n",
    "    x = len(day_diffs) - len(consec_day_pattern) + 1\n",
    "    for i in range(x):\n",
    "        if (day_diffs[i:i+n] == consec_day_pattern).all():\n",
    "            return True\n",
    "    return False    \n",
    "\n",
    "df.groupby('User').apply(consecutive_week, 6).sum()"
   ]
  },
  {
   "cell_type": "markdown",
   "metadata": {},
   "source": [
    "***\n",
    "\n",
    "### TABLE JOIN ###\n",
    "*sample question 1*:  \n",
    "find the most common user age for each country"
   ]
  },
  {
   "cell_type": "code",
   "execution_count": 11,
   "metadata": {
    "collapsed": false
   },
   "outputs": [
    {
     "data": {
      "text/html": [
       "<div>\n",
       "<table border=\"1\" class=\"dataframe\">\n",
       "  <thead>\n",
       "    <tr style=\"text-align: right;\">\n",
       "      <th></th>\n",
       "      <th>country</th>\n",
       "      <th>age</th>\n",
       "      <th>count</th>\n",
       "    </tr>\n",
       "  </thead>\n",
       "  <tbody>\n",
       "    <tr>\n",
       "      <th>0</th>\n",
       "      <td>China</td>\n",
       "      <td>30</td>\n",
       "      <td>3522</td>\n",
       "    </tr>\n",
       "    <tr>\n",
       "      <th>1</th>\n",
       "      <td>Germany</td>\n",
       "      <td>25</td>\n",
       "      <td>606</td>\n",
       "    </tr>\n",
       "    <tr>\n",
       "      <th>2</th>\n",
       "      <td>UK</td>\n",
       "      <td>27</td>\n",
       "      <td>2218</td>\n",
       "    </tr>\n",
       "    <tr>\n",
       "      <th>3</th>\n",
       "      <td>US</td>\n",
       "      <td>28</td>\n",
       "      <td>8148</td>\n",
       "    </tr>\n",
       "  </tbody>\n",
       "</table>\n",
       "</div>"
      ],
      "text/plain": [
       "   country  age  count\n",
       "0    China   30   3522\n",
       "1  Germany   25    606\n",
       "2       UK   27   2218\n",
       "3       US   28   8148"
      ]
     },
     "execution_count": 11,
     "metadata": {},
     "output_type": "execute_result"
    }
   ],
   "source": [
    "df = pd.read_csv('../data/conversion_data.csv')\n",
    "counts = df.groupby(['country', 'age'], as_index=False)['new_user'].count()\n",
    "counts.columns = ['country', 'age', 'count']\n",
    "max_counts = pd.DataFrame(counts.groupby('country')['count'].max())\n",
    "counts = pd.merge(max_counts, counts)\n",
    "counts = counts[['country', 'age', 'count']]\n",
    "counts"
   ]
  },
  {
   "cell_type": "markdown",
   "metadata": {},
   "source": [
    "*sample question 2*:  \n",
    "look up an foreign key on the same database"
   ]
  },
  {
   "cell_type": "code",
   "execution_count": 12,
   "metadata": {
    "collapsed": false,
    "scrolled": true
   },
   "outputs": [
    {
     "data": {
      "text/html": [
       "<div>\n",
       "<table border=\"1\" class=\"dataframe\">\n",
       "  <thead>\n",
       "    <tr style=\"text-align: right;\">\n",
       "      <th></th>\n",
       "      <th>Source</th>\n",
       "      <th>ID</th>\n",
       "    </tr>\n",
       "  </thead>\n",
       "  <tbody>\n",
       "    <tr>\n",
       "      <th>15</th>\n",
       "      <td>47.0</td>\n",
       "      <td>6</td>\n",
       "    </tr>\n",
       "    <tr>\n",
       "      <th>0</th>\n",
       "      <td>2.0</td>\n",
       "      <td>5</td>\n",
       "    </tr>\n",
       "    <tr>\n",
       "      <th>8</th>\n",
       "      <td>21.0</td>\n",
       "      <td>4</td>\n",
       "    </tr>\n",
       "    <tr>\n",
       "      <th>17</th>\n",
       "      <td>51.0</td>\n",
       "      <td>4</td>\n",
       "    </tr>\n",
       "    <tr>\n",
       "      <th>14</th>\n",
       "      <td>46.0</td>\n",
       "      <td>4</td>\n",
       "    </tr>\n",
       "  </tbody>\n",
       "</table>\n",
       "</div>"
      ],
      "text/plain": [
       "    Source  ID\n",
       "15    47.0   6\n",
       "0      2.0   5\n",
       "8     21.0   4\n",
       "17    51.0   4\n",
       "14    46.0   4"
      ]
     },
     "execution_count": 12,
     "metadata": {},
     "output_type": "execute_result"
    }
   ],
   "source": [
    "df = pd.read_csv('../data/type_conversion.csv')\n",
    "df_new = df.merge(df[['ID', 'Type']], left_on='Source', right_on='ID')[['ID_x', 'Source', 'Type_y']]\n",
    "df_new.columns = ['ID', 'Source', 'Source_Type']\n",
    "df_new.groupby('Source', as_index=False)['ID'].count().sort_values(by='ID', ascending=False).head(5)"
   ]
  },
  {
   "cell_type": "markdown",
   "metadata": {},
   "source": [
    "***\n",
    "### Other Handy Stuff ###"
   ]
  },
  {
   "cell_type": "markdown",
   "metadata": {},
   "source": [
    "#### Filtering ####\n",
    "Different filtering on variable values"
   ]
  },
  {
   "cell_type": "code",
   "execution_count": 14,
   "metadata": {
    "collapsed": false
   },
   "outputs": [
    {
     "data": {
      "text/html": [
       "<div>\n",
       "<table border=\"1\" class=\"dataframe\">\n",
       "  <thead>\n",
       "    <tr style=\"text-align: right;\">\n",
       "      <th></th>\n",
       "      <th>country</th>\n",
       "      <th>age</th>\n",
       "    </tr>\n",
       "  </thead>\n",
       "  <tbody>\n",
       "    <tr>\n",
       "      <th>4</th>\n",
       "      <td>UK</td>\n",
       "      <td>25</td>\n",
       "    </tr>\n",
       "    <tr>\n",
       "      <th>5</th>\n",
       "      <td>US</td>\n",
       "      <td>21</td>\n",
       "    </tr>\n",
       "    <tr>\n",
       "      <th>6</th>\n",
       "      <td>US</td>\n",
       "      <td>22</td>\n",
       "    </tr>\n",
       "    <tr>\n",
       "      <th>7</th>\n",
       "      <td>US</td>\n",
       "      <td>23</td>\n",
       "    </tr>\n",
       "    <tr>\n",
       "      <th>8</th>\n",
       "      <td>US</td>\n",
       "      <td>24</td>\n",
       "    </tr>\n",
       "    <tr>\n",
       "      <th>9</th>\n",
       "      <td>US</td>\n",
       "      <td>25</td>\n",
       "    </tr>\n",
       "  </tbody>\n",
       "</table>\n",
       "</div>"
      ],
      "text/plain": [
       "  country  age\n",
       "4      UK   25\n",
       "5      US   21\n",
       "6      US   22\n",
       "7      US   23\n",
       "8      US   24\n",
       "9      US   25"
      ]
     },
     "execution_count": 14,
     "metadata": {},
     "output_type": "execute_result"
    }
   ],
   "source": [
    "df_filtered = df[(df['age'] > 20) & \n",
    "                 (df['age'] < 26) & \n",
    "                 (df['country'].str.contains('U.*'))\n",
    "                ].groupby(['country', 'age'], as_index=False).count()\n",
    "df_filtered[df_filtered['new_user'] > 2000][['country', 'age']]"
   ]
  },
  {
   "cell_type": "markdown",
   "metadata": {},
   "source": [
    "#### Sorting ####\n",
    "Multi-level sorting"
   ]
  },
  {
   "cell_type": "code",
   "execution_count": 13,
   "metadata": {
    "collapsed": false
   },
   "outputs": [
    {
     "data": {
      "text/html": [
       "<div>\n",
       "<table border=\"1\" class=\"dataframe\">\n",
       "  <thead>\n",
       "    <tr style=\"text-align: right;\">\n",
       "      <th></th>\n",
       "      <th>country</th>\n",
       "      <th>age</th>\n",
       "      <th>new_user</th>\n",
       "      <th>source</th>\n",
       "      <th>total_pages_visited</th>\n",
       "      <th>converted</th>\n",
       "    </tr>\n",
       "  </thead>\n",
       "  <tbody>\n",
       "    <tr>\n",
       "      <th>168374</th>\n",
       "      <td>China</td>\n",
       "      <td>69</td>\n",
       "      <td>1</td>\n",
       "      <td>Ads</td>\n",
       "      <td>4</td>\n",
       "      <td>0</td>\n",
       "    </tr>\n",
       "    <tr>\n",
       "      <th>209080</th>\n",
       "      <td>China</td>\n",
       "      <td>68</td>\n",
       "      <td>0</td>\n",
       "      <td>Seo</td>\n",
       "      <td>5</td>\n",
       "      <td>0</td>\n",
       "    </tr>\n",
       "    <tr>\n",
       "      <th>31654</th>\n",
       "      <td>China</td>\n",
       "      <td>67</td>\n",
       "      <td>0</td>\n",
       "      <td>Seo</td>\n",
       "      <td>3</td>\n",
       "      <td>0</td>\n",
       "    </tr>\n",
       "    <tr>\n",
       "      <th>84466</th>\n",
       "      <td>China</td>\n",
       "      <td>66</td>\n",
       "      <td>0</td>\n",
       "      <td>Ads</td>\n",
       "      <td>9</td>\n",
       "      <td>0</td>\n",
       "    </tr>\n",
       "    <tr>\n",
       "      <th>192772</th>\n",
       "      <td>China</td>\n",
       "      <td>66</td>\n",
       "      <td>1</td>\n",
       "      <td>Ads</td>\n",
       "      <td>8</td>\n",
       "      <td>0</td>\n",
       "    </tr>\n",
       "  </tbody>\n",
       "</table>\n",
       "</div>"
      ],
      "text/plain": [
       "       country  age  new_user source  total_pages_visited  converted\n",
       "168374   China   69         1    Ads                    4          0\n",
       "209080   China   68         0    Seo                    5          0\n",
       "31654    China   67         0    Seo                    3          0\n",
       "84466    China   66         0    Ads                    9          0\n",
       "192772   China   66         1    Ads                    8          0"
      ]
     },
     "execution_count": 13,
     "metadata": {},
     "output_type": "execute_result"
    }
   ],
   "source": [
    "df = pd.read_csv('../data/conversion_data.csv')\n",
    "df.sort_values(by=['country', 'age'], ascending=[1, 0])[:5]"
   ]
  },
  {
   "cell_type": "markdown",
   "metadata": {},
   "source": [
    "#### Unique Values ####\n",
    "Number of unique values"
   ]
  },
  {
   "cell_type": "code",
   "execution_count": 15,
   "metadata": {
    "collapsed": false
   },
   "outputs": [
    {
     "data": {
      "text/plain": [
       "country\n",
       "China      53\n",
       "Germany    48\n",
       "UK         52\n",
       "US         58\n",
       "Name: age, dtype: int64"
      ]
     },
     "execution_count": 15,
     "metadata": {},
     "output_type": "execute_result"
    }
   ],
   "source": [
    "df.groupby('country')['age'].nunique()"
   ]
  },
  {
   "cell_type": "markdown",
   "metadata": {},
   "source": [
    "#### Reset Index ####\n",
    "Get your multi-level index into a dataframe - one of the best things you can ask for!"
   ]
  },
  {
   "cell_type": "code",
   "execution_count": 16,
   "metadata": {
    "collapsed": false
   },
   "outputs": [
    {
     "data": {
      "text/html": [
       "<div>\n",
       "<table border=\"1\" class=\"dataframe\">\n",
       "  <thead>\n",
       "    <tr style=\"text-align: right;\">\n",
       "      <th></th>\n",
       "      <th>country</th>\n",
       "      <th>age</th>\n",
       "      <th>count</th>\n",
       "    </tr>\n",
       "  </thead>\n",
       "  <tbody>\n",
       "    <tr>\n",
       "      <th>153</th>\n",
       "      <td>US</td>\n",
       "      <td>28</td>\n",
       "      <td>8148</td>\n",
       "    </tr>\n",
       "    <tr>\n",
       "      <th>154</th>\n",
       "      <td>US</td>\n",
       "      <td>30</td>\n",
       "      <td>8073</td>\n",
       "    </tr>\n",
       "    <tr>\n",
       "      <th>155</th>\n",
       "      <td>US</td>\n",
       "      <td>26</td>\n",
       "      <td>7907</td>\n",
       "    </tr>\n",
       "    <tr>\n",
       "      <th>156</th>\n",
       "      <td>US</td>\n",
       "      <td>27</td>\n",
       "      <td>7899</td>\n",
       "    </tr>\n",
       "    <tr>\n",
       "      <th>157</th>\n",
       "      <td>US</td>\n",
       "      <td>29</td>\n",
       "      <td>7888</td>\n",
       "    </tr>\n",
       "  </tbody>\n",
       "</table>\n",
       "</div>"
      ],
      "text/plain": [
       "    country  age  count\n",
       "153      US   28   8148\n",
       "154      US   30   8073\n",
       "155      US   26   7907\n",
       "156      US   27   7899\n",
       "157      US   29   7888"
      ]
     },
     "execution_count": 16,
     "metadata": {},
     "output_type": "execute_result"
    }
   ],
   "source": [
    "age_size = df.groupby('country')['age'].value_counts().to_frame('count').reset_index()\n",
    "age_size.sort_values('count', ascending=False)[:5]"
   ]
  },
  {
   "cell_type": "markdown",
   "metadata": {},
   "source": [
    "#### Crosstab ###\n",
    "*sample question*:  \n",
    "find the most common user age for each country"
   ]
  },
  {
   "cell_type": "code",
   "execution_count": 17,
   "metadata": {
    "collapsed": false,
    "scrolled": true
   },
   "outputs": [
    {
     "data": {
      "text/plain": [
       "country\n",
       "China        (China, 30)\n",
       "Germany    (Germany, 25)\n",
       "UK              (UK, 27)\n",
       "US              (US, 28)\n",
       "dtype: object"
      ]
     },
     "execution_count": 17,
     "metadata": {},
     "output_type": "execute_result"
    }
   ],
   "source": [
    "ct = pd.crosstab(df.country, df.age)\n",
    "ct.stack().groupby(level=0).idxmax()"
   ]
  },
  {
   "cell_type": "markdown",
   "metadata": {},
   "source": [
    "equivalent to... a multi-level `groupby`!"
   ]
  },
  {
   "cell_type": "code",
   "execution_count": 18,
   "metadata": {
    "collapsed": false
   },
   "outputs": [
    {
     "data": {
      "text/plain": [
       "country\n",
       "China        (China, 30)\n",
       "Germany    (Germany, 25)\n",
       "UK              (UK, 27)\n",
       "US              (US, 28)\n",
       "dtype: object"
      ]
     },
     "execution_count": 18,
     "metadata": {},
     "output_type": "execute_result"
    }
   ],
   "source": [
    "df.groupby(['country', 'age']).size().groupby(level=0).idxmax()"
   ]
  },
  {
   "cell_type": "markdown",
   "metadata": {},
   "source": [
    "***\n",
    "## Some Scipy for More Fun ##\n",
    "### Hypothesis Testing ###"
   ]
  },
  {
   "cell_type": "code",
   "execution_count": 19,
   "metadata": {
    "collapsed": false
   },
   "outputs": [
    {
     "data": {
      "text/plain": [
       "0.096334668220962372"
      ]
     },
     "execution_count": 19,
     "metadata": {},
     "output_type": "execute_result"
    }
   ],
   "source": [
    "from scipy import stats\n",
    "\n",
    "alpha = 0.1\n",
    "n_sample = 15\n",
    "t_stat = stats.t.ppf(1 - alpha/2, n_sample - 1)\n",
    "\n",
    "from scipy.stats import binom\n",
    "binom.ppf(0.95, 100, 0.5)\n",
    "1 - binom.cdf(58, 100, 0.52)"
   ]
  },
  {
   "cell_type": "code",
   "execution_count": 20,
   "metadata": {
    "collapsed": false
   },
   "outputs": [
    {
     "data": {
      "text/plain": [
       "0.98726666769296889"
      ]
     },
     "execution_count": 20,
     "metadata": {},
     "output_type": "execute_result"
    }
   ],
   "source": [
    "stats.t.cdf(2.5, n_sample - 1)"
   ]
  },
  {
   "cell_type": "code",
   "execution_count": 21,
   "metadata": {
    "collapsed": false
   },
   "outputs": [
    {
     "name": "stdout",
     "output_type": "stream",
     "text": [
      "p_value from t-stat:  0.116816398182\n",
      "p_value:  0.116816398182\n"
     ]
    }
   ],
   "source": [
    "observed_data = [170, 167, 174, 179, 179, \n",
    "                 156, 163, 156, 187, 156, \n",
    "                 183, 179, 174, 179, 170, \n",
    "                 156, 187, 179, 183, 174, \n",
    "                 187, 167, 159, 170, 179]\n",
    "H_0 = 170\n",
    "\n",
    "t_stat, p_value = stats.ttest_1samp(observed_data, H_0)\n",
    "\n",
    "# one sided p_value\n",
    "print('p_value from t-stat: ', 1 - stats.t.cdf(t_stat, len(observed_data) - 1))\n",
    "\n",
    "# one sided p_value\n",
    "print('p_value: ', p_value/2)"
   ]
  },
  {
   "cell_type": "markdown",
   "metadata": {},
   "source": [
    "***\n",
    "### TODOs ###\n",
    "* cross-tab\n",
    "\n",
    "ML stuff\n",
    "* ROC\n",
    "* confusion matrix"
   ]
  }
 ],
 "metadata": {
  "anaconda-cloud": {},
  "kernelspec": {
   "display_name": "Python [Root]",
   "language": "python",
   "name": "Python [Root]"
  },
  "language_info": {
   "codemirror_mode": {
    "name": "ipython",
    "version": 3
   },
   "file_extension": ".py",
   "mimetype": "text/x-python",
   "name": "python",
   "nbconvert_exporter": "python",
   "pygments_lexer": "ipython3",
   "version": "3.5.2"
  }
 },
 "nbformat": 4,
 "nbformat_minor": 0
}
