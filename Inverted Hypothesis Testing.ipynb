{
 "cells": [
  {
   "cell_type": "markdown",
   "metadata": {},
   "source": [
    "# Confidence Interval via Inverted Hypothesis Testing#"
   ]
  },
  {
   "cell_type": "markdown",
   "metadata": {},
   "source": [
    "## Confidence Interval ##\n",
    "\n",
    "A confidence interval: \n",
    "1. consists of all possible values of $\\theta$ (estimated by $\\eta$) that the test would not reject for the given data\n",
    "2. has a $1 - \\alpha$ probability of including the true $\\theta$\n",
    "\n",
    "How are these two properties / statements related?"
   ]
  },
  {
   "cell_type": "markdown",
   "metadata": {},
   "source": [
    "### Symbol Definitions ###\n",
    "\n",
    "Let's start by defining some symbols\n",
    "* $\\theta$: true parameter of the population that is unknown to us, e.g. the true probability of getting a Head in a coin flip\n",
    "* $\\eta$: estimate of $\\theta$, e.g. any value in $[0,1]$ in the coin flip example\n",
    "* $\\alpha$: significance level, usually set to 0.05\n",
    "* $X$: total outcome space\n",
    "* $Y$: observed statistic\n",
    "* $A$: a subset of outcome space $X$, which satisfies $P_{\\eta}(Y \\in A_{\\eta}) \\geq 1 - \\alpha$. The equation basically says if $\\eta$ is the true probability, then with probability of at least $1 - \\alpha$, $Y$ will fall into $A$\n",
    "\n",
    "<br>\n",
    "For example, if we flip a coin 10 times and look at the number of heads we get:\n",
    "* $\\theta$: the inherent probability of getting a Head when the specific coin is flipped\n",
    "* $\\eta$: any value in $[0,1]$ that can potentially be $\\theta$\n",
    "* $\\alpha$: any number between 0 and 1, say 0.05, that tells us what we consider to be significant/extreme\n",
    "* $X$: set of possible number of heads in the 10 flips, $\\{0, 1, 2, ..., 10\\}$\n",
    "* $Y$: any number between 0 and 10, say 7\n",
    "* $A$: any subset of $\\{0, 1, 2, ..., 10\\}$, say $\\{1, 2, 3\\}$, as long as it satisfies the stated relationship for the corresponding $\\eta$. To illustrate with made up numbers, say if $\\eta = 0.6$ and $A_{\\eta} = \\{3, 4, ... 8, 9\\}$, then 95% of the time our observed number of heads ($Y$) will be in $\\{3, 4, ... 8, 9\\}$"
   ]
  },
  {
   "cell_type": "markdown",
   "metadata": {},
   "source": [
    "### Confidence Interval ###\n",
    "We are now ready to talk about confidence interval  \n",
    "\n",
    "__*What is confidence interval?*__   \n",
    "Interval $I(Y)$ is defined as $\\{\\eta: Y \\in A_{\\eta}\\}$. The notation means the set of $\\eta$ that contains $Y$ in their corresponding $A_{\\eta}$, a.k.a all the potential values of $\\theta$ estimates which have their intervals ($A_{\\eta}$) covering the observed $Y$\n",
    "\n",
    "__*Wait... What about the true $\\theta$?*__  \n",
    "$P_{\\theta}\\{I(Y) \\ni \\theta\\} \\geq 1 - \\alpha$, which means the probability of confidence interval including the true parameter is at least $1 - \\alpha$  \n",
    "Here's why  \n",
    "1. $P_{\\theta}(Y \\in A_{\\theta}) \\geq 1 - \\alpha$. This means that with probability of $1 - \\alpha$ and greater, $Y$ will be included in $A_{\\theta}$ if $\\theta$ is the true parameter. This is true because that's how we construct $A$ to begin with\n",
    "2. Given 1, when $Y$ is indeed included in $A_{\\theta}$, $\\theta$ will be included in $I(Y)$. This is true by the definition of $I(Y)$, which includes all values of $\\eta$ (including $\\theta$) that contains $Y$ in their corresponding $A$  \n",
    "3. Since when 1 happens, 2 happens, the probability of $\\theta$ being included in $I(Y)$ is at least $1 - \\alpha$"
   ]
  },
  {
   "cell_type": "markdown",
   "metadata": {},
   "source": [
    "### What does this all mean? ###\n",
    "Going back to the beginning, I think the two statements are just two of the valid interpretations of confidence interval. Even though it's not obvious at first glance, but they are actually equivalent!"
   ]
  },
  {
   "cell_type": "markdown",
   "metadata": {},
   "source": [
    "## Inverted Hypothesis Testing ##"
   ]
  },
  {
   "cell_type": "markdown",
   "metadata": {},
   "source": [
    "Let's see how we can use the two interpretations in the hypothesis testing process.  \n",
    "\n",
    "** Basic Setup **  \n",
    "$H_0: \\theta = \\theta_0$  \n",
    "$H_1: \\theta \\neq \\theta_0$  \n",
    "signficance level $\\alpha$\n",
    "\n",
    "<br>\n",
    "** Acceptance Region **  \n",
    "The region covering the observed data with probability of $1 - \\alpha$  \n",
    "$P(Y \\in A_{\\theta_0} | \\theta = \\theta_0) = 1 - \\alpha$  \n",
    "\n",
    "<br>\n",
    "** Confidence Set **  \n",
    "Confidence interval covering the true parameter with probability of $1 - \\alpha$  \n",
    "$P(I(Y) \\ni \\theta_0 | \\theta = \\theta_0) = 1 - \\alpha$  \n",
    "\n",
    "<br>\n",
    "** Connecting the Two **  \n",
    "By setting the two expression to both equal $1 - \\alpha$,  \n",
    "$P(Y \\in A_{\\theta_0} | \\theta = \\theta_0) = P(I(Y) \\ni \\theta_0 | \\theta = \\theta_0) = 1 - \\alpha$"
   ]
  },
  {
   "cell_type": "markdown",
   "metadata": {},
   "source": [
    "Let's take a look at two examples\n",
    "\n",
    "### Example 1. Normal Distribution ### \n",
    "\n",
    "$X_1, X_2, ..., X_n$ i.i.d $N(\\mu, \\sigma^2)$   \n",
    "mean $Y = \\bar{X} = \\frac{1}{n}\\sum_{i = 1}^n X_i$ ~ $N(\\mu, \\sigma^2 / n)$  \n",
    "\n",
    "<br>\n",
    "$H_0: \\mu = \\mu_0$  \n",
    "$H_1: \\mu \\neq \\mu_0$  \n",
    "\n",
    "<br>\n",
    "** Acceptance Region **  \n",
    "Let $\\nu$ be an estimate of the true parameter $\\mu$. For a given $\\nu$, its acceptance region is $A_{\\nu} = [\\nu - X_0, \\nu + X_0]$, where $X_0 = z_{\\alpha/2}\\cdot \\frac{\\sigma}{\\sqrt{n}}$  \n",
    "The probability $P_{\\nu}(X \\in A_{\\nu}) = P_{\\nu}(X \\in [\\nu - X_0, \\nu + X_0]) \\geq 1 - \\alpha$\n",
    "\n",
    "** Confidence Interval **  \n",
    "With observed data $Y$, we accept all values of $\\nu$ that satisifies $|Y - \\nu| \\leq X_0$, and reject $\\nu$ that has $|Y - \\nu|> X_0$  \n",
    "By inverting the construction of $A_{\\nu}$, we get the confidence interval   \n",
    "Acceptable $\\nu$ values lie in the range $[Y - X_0, Y + X_0]$  \n",
    "\n",
    "** Conclusion **  \n",
    "If $\\mu_0 \\in [Y - X_0, Y + X_0]$, accept $H_0$, otherwise reject $H_0$"
   ]
  },
  {
   "cell_type": "markdown",
   "metadata": {},
   "source": [
    "### Example 2. One-sided Binomial Distribution ###\n",
    "\n",
    "$X_1, X_2, ..., X_n$ i.i.d Bernouli $(p)$  \n",
    "sum $Y = n\\bar{X}$ ~ Binomial $(n, p)$  \n",
    "\n",
    "<br>\n",
    "$H_0: p = p_0$  \n",
    "$H_1: p > p_0$  \n",
    "\n",
    "<br>\n",
    "** Acceptance Region **  \n",
    "Let $\\rho$ be an estimate of the true parameter $p$. For a given $\\rho$, its acceptance region is $A_{\\rho} = \\{Y: \\sum_{k = Y + 1}^n {n \\choose k}\\rho^k(1 - \\rho)^{n-k} \\geq \\alpha\\} = [0, a_{\\rho}]$  \n",
    "$a_{\\rho} = \\max \\{i: \\sum_{k = i + 1}^n {n \\choose k} \\rho^k (1 - \\rho)^{n - k}\\geq \\alpha\\}$  \n",
    "\n",
    "<br>\n",
    "** Confidence Interval **  \n",
    "With observed data $Y$, we accept all values of $\\rho$ that satisifies $a_{\\rho} \\geq Y$, and reject $\\rho$ that has $a_{\\rho} < Y$  \n",
    "By inverting the construction of $A_{\\rho}$, we get the confidence interval $[p_{low}, 1]$, where  \n",
    "$p_{low}: \\sum_{k = Y + 1}^n {n \\choose k}p_{low}^k(1 - p_{low})^{n - k} = \\alpha$\n",
    "\n",
    "\n",
    "<br>\n",
    "** Conclusion **  \n",
    "If $p_0 \\geq p_{low}$, accept $H_0$, otherwise reject $H_0$"
   ]
  }
 ],
 "metadata": {
  "anaconda-cloud": {},
  "kernelspec": {
   "display_name": "Python [Root]",
   "language": "python",
   "name": "Python [Root]"
  },
  "language_info": {
   "codemirror_mode": {
    "name": "ipython",
    "version": 3
   },
   "file_extension": ".py",
   "mimetype": "text/x-python",
   "name": "python",
   "nbconvert_exporter": "python",
   "pygments_lexer": "ipython3",
   "version": "3.5.2"
  }
 },
 "nbformat": 4,
 "nbformat_minor": 0
}
