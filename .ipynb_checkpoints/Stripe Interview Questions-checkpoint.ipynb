{
 "cells": [
  {
   "cell_type": "markdown",
   "metadata": {},
   "source": [
    "### Question 1 ###\n",
    "You're running a pool of servers where the servers are numbered sequentially starting from 1. Over time, any given server might explode, in which case its server number is made available for reuse. When a new server is launched, it should be given the lowest available number.\n",
    "\n",
    "Write a function which, given the list of currently allocated server numbers, returns the number of the next server to allocate. In addition, you should demonstrate your approach to testing that your function is correct. You may choose to use an existing testing library for your language if you choose, or you may write your own process if you prefer.\n",
    "\n",
    "For example, your function should behave something like the following:\n",
    "\n",
    "```\n",
    "next_server_number([5, 3, 1])\n",
    "2\n",
    "\n",
    "next_server_number([5, 4, 1, 2])\n",
    "3\n",
    "\n",
    "next_server_number([3, 2, 1])\n",
    "4\n",
    "\n",
    "next_server_number([2, 3])\n",
    "1\n",
    "\n",
    "next_server_number([])\n",
    "1\n",
    "```"
   ]
  },
  {
   "cell_type": "code",
   "execution_count": 1,
   "metadata": {
    "collapsed": true
   },
   "outputs": [],
   "source": [
    "def next_server_number(existing_servers):\n",
    "    i = 1\n",
    "    try:\n",
    "        if len(existing_servers) == 0:\n",
    "            return i\n",
    "        while True:\n",
    "            if i in existing_servers:\n",
    "                i += 1\n",
    "            else:\n",
    "                return i\n",
    "    except:\n",
    "        raise ValueError('Please provide a valid list')"
   ]
  },
  {
   "cell_type": "code",
   "execution_count": 2,
   "metadata": {
    "collapsed": true
   },
   "outputs": [],
   "source": [
    "assert next_server_number([]) == 1\n",
    "assert next_server_number([2, 3]) == 1\n",
    "assert next_server_number([5, 4, 1, 2]) == 3\n",
    "assert next_server_number([3, 2, 1]) == 4\n",
    "assert next_server_number([5, 3, 1]) == 2"
   ]
  },
  {
   "cell_type": "code",
   "execution_count": 3,
   "metadata": {
    "collapsed": false
   },
   "outputs": [],
   "source": [
    "def test_errorneous_input(x):\n",
    "    try:\n",
    "        next_server_number(x)\n",
    "        assert False\n",
    "    except ValueError:\n",
    "        assert True"
   ]
  },
  {
   "cell_type": "code",
   "execution_count": 4,
   "metadata": {
    "collapsed": false
   },
   "outputs": [],
   "source": [
    "test_errorneous_input(1)\n",
    "test_errorneous_input(None)"
   ]
  },
  {
   "cell_type": "markdown",
   "metadata": {},
   "source": [
    "### Question 2 ###\n",
    "\n",
    "Server names consist of an alphabetic host type (e.g. \"apibox\") concatenated with the server number, with server numbers allocated as before (so \"apibox1\", \"apibox2\", etc. are valid hostnames).\n",
    "\n",
    "Write a name tracking class with two operations, allocate(host_type) and deallocate(hostname). The former should reserve and return the next available hostname, while the latter should release that hostname back into the pool.\n",
    "\n",
    "For example:\n",
    "\n",
    "```\n",
    "tracker = Tracker.new()\n",
    "\n",
    "tracker.allocate(\"apibox\")\n",
    "\"apibox1\"\n",
    "\n",
    "tracker.allocate(\"apibox\")\n",
    "\"apibox2\"\n",
    "\n",
    "tracker.deallocate(\"apibox1\")\n",
    "nil\n",
    "\n",
    "tracker.allocate(\"apibox\")\n",
    "\"apibox1\"\n",
    "\n",
    "tracker.allocate(\"sitebox\")\n",
    "\"sitebox1\"\n",
    "```"
   ]
  },
  {
   "cell_type": "code",
   "execution_count": 5,
   "metadata": {
    "collapsed": true
   },
   "outputs": [],
   "source": [
    "import re\n",
    "\n",
    "class Tracker():\n",
    "    def __init__(self):\n",
    "        self.tracker = {}\n",
    "    \n",
    "    def allocate(self, host_type):\n",
    "        try:\n",
    "            m = re.search('([A-Za-z]+)', host_type)\n",
    "            assert m.group(0) == host_type\n",
    "            i = 1\n",
    "            if host_type not in self.tracker:\n",
    "                self.tracker[host_type] = [i]\n",
    "            else:\n",
    "                i = next_server_number(self.tracker[host_type])\n",
    "                self.tracker[host_type].append(i)\n",
    "            return host_type + str(i)\n",
    "        except:\n",
    "            print('invalid host type inputted')\n",
    "    \n",
    "    def deallocate(self, hostname):\n",
    "        try: \n",
    "            m = re.search('([A-Za-z]+?)([1-9]+)', hostname)\n",
    "            host_type = m.group(1)\n",
    "            host_num = int(m.group(2))\n",
    "        except:\n",
    "            print('please provide a valid hostname')\n",
    "            return None\n",
    "        \n",
    "        try: \n",
    "            self.tracker[host_type].remove(host_num)\n",
    "            return None\n",
    "        except:\n",
    "            print('host type not found or host number is not valid')\n",
    "            return None"
   ]
  },
  {
   "cell_type": "code",
   "execution_count": 6,
   "metadata": {
    "collapsed": false
   },
   "outputs": [],
   "source": [
    "tracker = Tracker()"
   ]
  },
  {
   "cell_type": "code",
   "execution_count": 7,
   "metadata": {
    "collapsed": false
   },
   "outputs": [
    {
     "data": {
      "text/plain": [
       "'apibox1'"
      ]
     },
     "execution_count": 7,
     "metadata": {},
     "output_type": "execute_result"
    }
   ],
   "source": [
    "tracker.allocate(\"apibox\")"
   ]
  },
  {
   "cell_type": "code",
   "execution_count": 8,
   "metadata": {
    "collapsed": false
   },
   "outputs": [
    {
     "data": {
      "text/plain": [
       "'apibox2'"
      ]
     },
     "execution_count": 8,
     "metadata": {},
     "output_type": "execute_result"
    }
   ],
   "source": [
    "tracker.allocate(\"apibox\")"
   ]
  },
  {
   "cell_type": "code",
   "execution_count": 9,
   "metadata": {
    "collapsed": true
   },
   "outputs": [],
   "source": [
    "tracker.deallocate(\"apibox1\")"
   ]
  },
  {
   "cell_type": "code",
   "execution_count": 10,
   "metadata": {
    "collapsed": false
   },
   "outputs": [
    {
     "data": {
      "text/plain": [
       "'apibox1'"
      ]
     },
     "execution_count": 10,
     "metadata": {},
     "output_type": "execute_result"
    }
   ],
   "source": [
    "tracker.allocate(\"apibox\")"
   ]
  },
  {
   "cell_type": "code",
   "execution_count": 11,
   "metadata": {
    "collapsed": false
   },
   "outputs": [
    {
     "data": {
      "text/plain": [
       "'sitebox1'"
      ]
     },
     "execution_count": 11,
     "metadata": {},
     "output_type": "execute_result"
    }
   ],
   "source": [
    "tracker.allocate(\"sitebox\")"
   ]
  },
  {
   "cell_type": "code",
   "execution_count": 12,
   "metadata": {
    "collapsed": false
   },
   "outputs": [
    {
     "name": "stdout",
     "output_type": "stream",
     "text": [
      "invalid host type inputted\n"
     ]
    }
   ],
   "source": [
    "tracker.allocate(\"apibox1\")"
   ]
  },
  {
   "cell_type": "code",
   "execution_count": 13,
   "metadata": {
    "collapsed": false
   },
   "outputs": [
    {
     "name": "stdout",
     "output_type": "stream",
     "text": [
      "host type not found or host number is not valid\n"
     ]
    }
   ],
   "source": [
    "tracker.deallocate(\"helloworld1\")"
   ]
  }
 ],
 "metadata": {
  "anaconda-cloud": {},
  "kernelspec": {
   "display_name": "Python [Root]",
   "language": "python",
   "name": "Python [Root]"
  },
  "language_info": {
   "codemirror_mode": {
    "name": "ipython",
    "version": 3
   },
   "file_extension": ".py",
   "mimetype": "text/x-python",
   "name": "python",
   "nbconvert_exporter": "python",
   "pygments_lexer": "ipython3",
   "version": "3.5.2"
  }
 },
 "nbformat": 4,
 "nbformat_minor": 0
}
